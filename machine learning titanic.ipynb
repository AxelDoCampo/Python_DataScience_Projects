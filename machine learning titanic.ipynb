{
 "cells": [
  {
   "cell_type": "code",
   "execution_count": 1,
   "metadata": {},
   "outputs": [],
   "source": [
    "%config Completer.use_jedi = False\n",
    "import os\n",
    "import numpy as np\n",
    "import pandas as pd\n",
    "import scipy as sp\n",
    "import matplotlib.pyplot as plt\n",
    "%matplotlib inline\n",
    "import matplotlib.style as style\n",
    "from sklearn.svm import LinearSVC\n",
    "from sklearn.ensemble import GradientBoostingClassifier\n",
    "from sklearn.neighbors import KNeighborsClassifier\n",
    "from sklearn.naive_bayes import GaussianNB\n",
    "from sklearn.linear_model import LinearRegression, LogisticRegression, SGDClassifier\n",
    "from sklearn.tree import DecisionTreeClassifier\n",
    "from sklearn.ensemble import RandomForestClassifier\n",
    "from sklearn.svm import SVC\n",
    "from sklearn.metrics import r2_score\n",
    "from sklearn.model_selection import train_test_split\n",
    "from sklearn.model_selection import cross_val_score\n",
    "from sklearn.model_selection import cross_val_predict\n",
    "from sklearn.preprocessing import PolynomialFeatures\n",
    "from sklearn.model_selection import GridSearchCV\n",
    "from sklearn.datasets import make_classification\n",
    "from sklearn.ensemble import ExtraTreesClassifier\n",
    "from sklearn.preprocessing import OneHotEncoder\n",
    "from sklearn.preprocessing import StandardScaler\n",
    "from scipy.stats import pearsonr\n",
    "from sklearn.metrics import accuracy_score\n",
    "from sklearn.impute import SimpleImputer\n",
    "from sklearn.impute import KNNImputer\n",
    "from sklearn.pipeline import make_pipeline\n",
    "from sklearn.pipeline import Pipeline\n",
    "from sklearn.compose import make_column_transformer\n",
    "from sklearn.compose import make_column_selector\n",
    "from sklearn.compose import ColumnTransformer\n",
    "from sklearn import datasets\n",
    "import seaborn as sns\n",
    "import pickle as pickle"
   ]
  },
  {
   "cell_type": "code",
   "execution_count": 2,
   "metadata": {},
   "outputs": [],
   "source": [
    "df = pd.read_csv('https://bit.ly/kaggletrain')"
   ]
  },
  {
   "cell_type": "code",
   "execution_count": 3,
   "metadata": {},
   "outputs": [
    {
     "output_type": "execute_result",
     "data": {
      "text/plain": [
       "   PassengerId  Survived  Pclass  \\\n",
       "0            1         0       3   \n",
       "1            2         1       1   \n",
       "2            3         1       3   \n",
       "3            4         1       1   \n",
       "4            5         0       3   \n",
       "\n",
       "                                                Name     Sex   Age  SibSp  \\\n",
       "0                            Braund, Mr. Owen Harris    male  22.0      1   \n",
       "1  Cumings, Mrs. John Bradley (Florence Briggs Th...  female  38.0      1   \n",
       "2                             Heikkinen, Miss. Laina  female  26.0      0   \n",
       "3       Futrelle, Mrs. Jacques Heath (Lily May Peel)  female  35.0      1   \n",
       "4                           Allen, Mr. William Henry    male  35.0      0   \n",
       "\n",
       "   Parch            Ticket     Fare Cabin Embarked  \n",
       "0      0         A/5 21171   7.2500   NaN        S  \n",
       "1      0          PC 17599  71.2833   C85        C  \n",
       "2      0  STON/O2. 3101282   7.9250   NaN        S  \n",
       "3      0            113803  53.1000  C123        S  \n",
       "4      0            373450   8.0500   NaN        S  "
      ],
      "text/html": "<div>\n<style scoped>\n    .dataframe tbody tr th:only-of-type {\n        vertical-align: middle;\n    }\n\n    .dataframe tbody tr th {\n        vertical-align: top;\n    }\n\n    .dataframe thead th {\n        text-align: right;\n    }\n</style>\n<table border=\"1\" class=\"dataframe\">\n  <thead>\n    <tr style=\"text-align: right;\">\n      <th></th>\n      <th>PassengerId</th>\n      <th>Survived</th>\n      <th>Pclass</th>\n      <th>Name</th>\n      <th>Sex</th>\n      <th>Age</th>\n      <th>SibSp</th>\n      <th>Parch</th>\n      <th>Ticket</th>\n      <th>Fare</th>\n      <th>Cabin</th>\n      <th>Embarked</th>\n    </tr>\n  </thead>\n  <tbody>\n    <tr>\n      <th>0</th>\n      <td>1</td>\n      <td>0</td>\n      <td>3</td>\n      <td>Braund, Mr. Owen Harris</td>\n      <td>male</td>\n      <td>22.0</td>\n      <td>1</td>\n      <td>0</td>\n      <td>A/5 21171</td>\n      <td>7.2500</td>\n      <td>NaN</td>\n      <td>S</td>\n    </tr>\n    <tr>\n      <th>1</th>\n      <td>2</td>\n      <td>1</td>\n      <td>1</td>\n      <td>Cumings, Mrs. John Bradley (Florence Briggs Th...</td>\n      <td>female</td>\n      <td>38.0</td>\n      <td>1</td>\n      <td>0</td>\n      <td>PC 17599</td>\n      <td>71.2833</td>\n      <td>C85</td>\n      <td>C</td>\n    </tr>\n    <tr>\n      <th>2</th>\n      <td>3</td>\n      <td>1</td>\n      <td>3</td>\n      <td>Heikkinen, Miss. Laina</td>\n      <td>female</td>\n      <td>26.0</td>\n      <td>0</td>\n      <td>0</td>\n      <td>STON/O2. 3101282</td>\n      <td>7.9250</td>\n      <td>NaN</td>\n      <td>S</td>\n    </tr>\n    <tr>\n      <th>3</th>\n      <td>4</td>\n      <td>1</td>\n      <td>1</td>\n      <td>Futrelle, Mrs. Jacques Heath (Lily May Peel)</td>\n      <td>female</td>\n      <td>35.0</td>\n      <td>1</td>\n      <td>0</td>\n      <td>113803</td>\n      <td>53.1000</td>\n      <td>C123</td>\n      <td>S</td>\n    </tr>\n    <tr>\n      <th>4</th>\n      <td>5</td>\n      <td>0</td>\n      <td>3</td>\n      <td>Allen, Mr. William Henry</td>\n      <td>male</td>\n      <td>35.0</td>\n      <td>0</td>\n      <td>0</td>\n      <td>373450</td>\n      <td>8.0500</td>\n      <td>NaN</td>\n      <td>S</td>\n    </tr>\n  </tbody>\n</table>\n</div>"
     },
     "metadata": {},
     "execution_count": 3
    }
   ],
   "source": [
    "df.head()"
   ]
  },
  {
   "cell_type": "code",
   "execution_count": 4,
   "metadata": {},
   "outputs": [],
   "source": [
    "x = df[['Pclass','Sex', 'Age', 'Fare', 'Embarked']]"
   ]
  },
  {
   "cell_type": "code",
   "execution_count": 5,
   "metadata": {},
   "outputs": [],
   "source": [
    "y = df['Survived']"
   ]
  },
  {
   "cell_type": "code",
   "execution_count": 6,
   "metadata": {},
   "outputs": [],
   "source": [
    "x_train, x_test, y_train, y_test = train_test_split(x,y,test_size=0.2)"
   ]
  },
  {
   "cell_type": "code",
   "execution_count": 7,
   "metadata": {},
   "outputs": [
    {
     "output_type": "execute_result",
     "data": {
      "text/plain": [
       "              Age\n",
       "count  714.000000\n",
       "mean    29.699118\n",
       "std     14.526497\n",
       "min      0.420000\n",
       "25%     20.125000\n",
       "50%     28.000000\n",
       "75%     38.000000\n",
       "max     80.000000"
      ],
      "text/html": "<div>\n<style scoped>\n    .dataframe tbody tr th:only-of-type {\n        vertical-align: middle;\n    }\n\n    .dataframe tbody tr th {\n        vertical-align: top;\n    }\n\n    .dataframe thead th {\n        text-align: right;\n    }\n</style>\n<table border=\"1\" class=\"dataframe\">\n  <thead>\n    <tr style=\"text-align: right;\">\n      <th></th>\n      <th>Age</th>\n    </tr>\n  </thead>\n  <tbody>\n    <tr>\n      <th>count</th>\n      <td>714.000000</td>\n    </tr>\n    <tr>\n      <th>mean</th>\n      <td>29.699118</td>\n    </tr>\n    <tr>\n      <th>std</th>\n      <td>14.526497</td>\n    </tr>\n    <tr>\n      <th>min</th>\n      <td>0.420000</td>\n    </tr>\n    <tr>\n      <th>25%</th>\n      <td>20.125000</td>\n    </tr>\n    <tr>\n      <th>50%</th>\n      <td>28.000000</td>\n    </tr>\n    <tr>\n      <th>75%</th>\n      <td>38.000000</td>\n    </tr>\n    <tr>\n      <th>max</th>\n      <td>80.000000</td>\n    </tr>\n  </tbody>\n</table>\n</div>"
     },
     "metadata": {},
     "execution_count": 7
    }
   ],
   "source": [
    "df[['Age']].describe()"
   ]
  },
  {
   "cell_type": "code",
   "execution_count": 8,
   "metadata": {},
   "outputs": [
    {
     "output_type": "execute_result",
     "data": {
      "text/plain": [
       "Pclass        int64\n",
       "Sex          object\n",
       "Age         float64\n",
       "Fare        float64\n",
       "Embarked     object\n",
       "dtype: object"
      ]
     },
     "metadata": {},
     "execution_count": 8
    }
   ],
   "source": [
    "x_train.dtypes"
   ]
  },
  {
   "cell_type": "code",
   "execution_count": 9,
   "metadata": {},
   "outputs": [],
   "source": [
    "num_feat = make_column_selector(dtype_include=np.number)\n",
    "cat_feat = make_column_selector(dtype_exclude=np.number)"
   ]
  },
  {
   "cell_type": "code",
   "execution_count": 10,
   "metadata": {},
   "outputs": [],
   "source": [
    "num_pipe = make_pipeline(\n",
    "    KNNImputer(),\n",
    "    StandardScaler()\n",
    ")"
   ]
  },
  {
   "cell_type": "code",
   "execution_count": 11,
   "metadata": {},
   "outputs": [],
   "source": [
    "cat_pipe = make_pipeline(\n",
    "    SimpleImputer(strategy = 'most_frequent'),\n",
    "    OneHotEncoder(handle_unknown='ignore', sparse=False)\n",
    ")"
   ]
  },
  {
   "cell_type": "code",
   "execution_count": 12,
   "metadata": {},
   "outputs": [],
   "source": [
    "col_trans = make_column_transformer(\n",
    "    (num_pipe, num_feat),\n",
    "    (cat_pipe, cat_feat)\n",
    ")"
   ]
  },
  {
   "cell_type": "code",
   "execution_count": 13,
   "metadata": {},
   "outputs": [],
   "source": [
    "model_pipe = make_pipeline(\n",
    "    col_trans, \n",
    "    LogisticRegression()\n",
    ")"
   ]
  },
  {
   "cell_type": "code",
   "execution_count": 14,
   "metadata": {},
   "outputs": [
    {
     "output_type": "execute_result",
     "data": {
      "text/plain": [
       "<bound method Pipeline.get_params of Pipeline(steps=[('columntransformer',\n",
       "                 ColumnTransformer(transformers=[('pipeline-1',\n",
       "                                                  Pipeline(steps=[('knnimputer',\n",
       "                                                                   KNNImputer()),\n",
       "                                                                  ('standardscaler',\n",
       "                                                                   StandardScaler())]),\n",
       "                                                  <sklearn.compose._column_transformer.make_column_selector object at 0x00000241C38A94F0>),\n",
       "                                                 ('pipeline-2',\n",
       "                                                  Pipeline(steps=[('simpleimputer',\n",
       "                                                                   SimpleImputer(strategy='most_frequent')),\n",
       "                                                                  ('onehotencoder',\n",
       "                                                                   OneHotEncoder(handle_unknown='ignore',\n",
       "                                                                                 sparse=False))]),\n",
       "                                                  <sklearn.compose._column_transformer.make_column_selector object at 0x00000241C38A92E0>)])),\n",
       "                ('logisticregression', LogisticRegression())])>"
      ]
     },
     "metadata": {},
     "execution_count": 14
    }
   ],
   "source": [
    "model_pipe.get_params"
   ]
  },
  {
   "cell_type": "code",
   "execution_count": 15,
   "metadata": {},
   "outputs": [],
   "source": [
    "param_grid = {\n",
    "    'columntransformer__pipeline-1__knnimputer__n_neighbors': [1,5],\n",
    "    'logisticregression__C': [0.1, 0.5, 1]\n",
    "}"
   ]
  },
  {
   "cell_type": "code",
   "execution_count": 16,
   "metadata": {},
   "outputs": [],
   "source": [
    "grid = GridSearchCV(model_pipe, param_grid, cv=10, scoring='accuracy', verbose=10)"
   ]
  },
  {
   "cell_type": "code",
   "execution_count": 17,
   "metadata": {},
   "outputs": [
    {
     "output_type": "stream",
     "name": "stdout",
     "text": [
      "Fitting 10 folds for each of 6 candidates, totalling 60 fits\n",
      "[CV 1/10; 1/6] START columntransformer__pipeline-1__knnimputer__n_neighbors=1, logisticregression__C=0.1\n",
      "[CV 1/10; 1/6] END columntransformer__pipeline-1__knnimputer__n_neighbors=1, logisticregression__C=0.1; total time=   0.1s\n",
      "[CV 2/10; 1/6] START columntransformer__pipeline-1__knnimputer__n_neighbors=1, logisticregression__C=0.1\n",
      "[CV 2/10; 1/6] END columntransformer__pipeline-1__knnimputer__n_neighbors=1, logisticregression__C=0.1; total time=   0.0s\n",
      "[CV 3/10; 1/6] START columntransformer__pipeline-1__knnimputer__n_neighbors=1, logisticregression__C=0.1\n",
      "[CV 3/10; 1/6] END columntransformer__pipeline-1__knnimputer__n_neighbors=1, logisticregression__C=0.1; total time=   0.0s\n",
      "[CV 4/10; 1/6] START columntransformer__pipeline-1__knnimputer__n_neighbors=1, logisticregression__C=0.1\n",
      "[CV 4/10; 1/6] END columntransformer__pipeline-1__knnimputer__n_neighbors=1, logisticregression__C=0.1; total time=   0.0s\n",
      "[CV 5/10; 1/6] START columntransformer__pipeline-1__knnimputer__n_neighbors=1, logisticregression__C=0.1\n",
      "[CV 5/10; 1/6] END columntransformer__pipeline-1__knnimputer__n_neighbors=1, logisticregression__C=0.1; total time=   0.0s\n",
      "[CV 6/10; 1/6] START columntransformer__pipeline-1__knnimputer__n_neighbors=1, logisticregression__C=0.1\n",
      "[CV 6/10; 1/6] END columntransformer__pipeline-1__knnimputer__n_neighbors=1, logisticregression__C=0.1; total time=   0.0s\n",
      "[CV 7/10; 1/6] START columntransformer__pipeline-1__knnimputer__n_neighbors=1, logisticregression__C=0.1\n",
      "[CV 7/10; 1/6] END columntransformer__pipeline-1__knnimputer__n_neighbors=1, logisticregression__C=0.1; total time=   0.0s\n",
      "[CV 8/10; 1/6] START columntransformer__pipeline-1__knnimputer__n_neighbors=1, logisticregression__C=0.1\n",
      "[CV 8/10; 1/6] END columntransformer__pipeline-1__knnimputer__n_neighbors=1, logisticregression__C=0.1; total time=   0.0s\n",
      "[CV 9/10; 1/6] START columntransformer__pipeline-1__knnimputer__n_neighbors=1, logisticregression__C=0.1\n",
      "[CV 9/10; 1/6] END columntransformer__pipeline-1__knnimputer__n_neighbors=1, logisticregression__C=0.1; total time=   0.0s\n",
      "[CV 10/10; 1/6] START columntransformer__pipeline-1__knnimputer__n_neighbors=1, logisticregression__C=0.1\n",
      "[CV 10/10; 1/6] END columntransformer__pipeline-1__knnimputer__n_neighbors=1, logisticregression__C=0.1; total time=   0.0s\n",
      "[CV 1/10; 2/6] START columntransformer__pipeline-1__knnimputer__n_neighbors=1, logisticregression__C=0.5\n",
      "[CV 1/10; 2/6] END columntransformer__pipeline-1__knnimputer__n_neighbors=1, logisticregression__C=0.5; total time=   0.0s\n",
      "[CV 2/10; 2/6] START columntransformer__pipeline-1__knnimputer__n_neighbors=1, logisticregression__C=0.5\n",
      "[CV 2/10; 2/6] END columntransformer__pipeline-1__knnimputer__n_neighbors=1, logisticregression__C=0.5; total time=   0.0s\n",
      "[CV 3/10; 2/6] START columntransformer__pipeline-1__knnimputer__n_neighbors=1, logisticregression__C=0.5\n",
      "[CV 3/10; 2/6] END columntransformer__pipeline-1__knnimputer__n_neighbors=1, logisticregression__C=0.5; total time=   0.0s\n",
      "[CV 4/10; 2/6] START columntransformer__pipeline-1__knnimputer__n_neighbors=1, logisticregression__C=0.5\n",
      "[CV 4/10; 2/6] END columntransformer__pipeline-1__knnimputer__n_neighbors=1, logisticregression__C=0.5; total time=   0.0s\n",
      "[CV 5/10; 2/6] START columntransformer__pipeline-1__knnimputer__n_neighbors=1, logisticregression__C=0.5\n",
      "[CV 5/10; 2/6] END columntransformer__pipeline-1__knnimputer__n_neighbors=1, logisticregression__C=0.5; total time=   0.0s\n",
      "[CV 6/10; 2/6] START columntransformer__pipeline-1__knnimputer__n_neighbors=1, logisticregression__C=0.5\n",
      "[CV 6/10; 2/6] END columntransformer__pipeline-1__knnimputer__n_neighbors=1, logisticregression__C=0.5; total time=   0.0s\n",
      "[CV 7/10; 2/6] START columntransformer__pipeline-1__knnimputer__n_neighbors=1, logisticregression__C=0.5\n",
      "[CV 7/10; 2/6] END columntransformer__pipeline-1__knnimputer__n_neighbors=1, logisticregression__C=0.5; total time=   0.0s\n",
      "[CV 8/10; 2/6] START columntransformer__pipeline-1__knnimputer__n_neighbors=1, logisticregression__C=0.5\n",
      "[CV 8/10; 2/6] END columntransformer__pipeline-1__knnimputer__n_neighbors=1, logisticregression__C=0.5; total time=   0.0s\n",
      "[CV 9/10; 2/6] START columntransformer__pipeline-1__knnimputer__n_neighbors=1, logisticregression__C=0.5\n",
      "[CV 9/10; 2/6] END columntransformer__pipeline-1__knnimputer__n_neighbors=1, logisticregression__C=0.5; total time=   0.0s\n",
      "[CV 10/10; 2/6] START columntransformer__pipeline-1__knnimputer__n_neighbors=1, logisticregression__C=0.5\n",
      "[CV 10/10; 2/6] END columntransformer__pipeline-1__knnimputer__n_neighbors=1, logisticregression__C=0.5; total time=   0.0s\n",
      "[CV 1/10; 3/6] START columntransformer__pipeline-1__knnimputer__n_neighbors=1, logisticregression__C=1\n",
      "[CV 1/10; 3/6] END columntransformer__pipeline-1__knnimputer__n_neighbors=1, logisticregression__C=1; total time=   0.0s\n",
      "[CV 2/10; 3/6] START columntransformer__pipeline-1__knnimputer__n_neighbors=1, logisticregression__C=1\n",
      "[CV 2/10; 3/6] END columntransformer__pipeline-1__knnimputer__n_neighbors=1, logisticregression__C=1; total time=   0.0s\n",
      "[CV 3/10; 3/6] START columntransformer__pipeline-1__knnimputer__n_neighbors=1, logisticregression__C=1\n",
      "[CV 3/10; 3/6] END columntransformer__pipeline-1__knnimputer__n_neighbors=1, logisticregression__C=1; total time=   0.0s\n",
      "[CV 4/10; 3/6] START columntransformer__pipeline-1__knnimputer__n_neighbors=1, logisticregression__C=1\n",
      "[CV 4/10; 3/6] END columntransformer__pipeline-1__knnimputer__n_neighbors=1, logisticregression__C=1; total time=   0.0s\n",
      "[CV 5/10; 3/6] START columntransformer__pipeline-1__knnimputer__n_neighbors=1, logisticregression__C=1\n",
      "[CV 5/10; 3/6] END columntransformer__pipeline-1__knnimputer__n_neighbors=1, logisticregression__C=1; total time=   0.0s\n",
      "[CV 6/10; 3/6] START columntransformer__pipeline-1__knnimputer__n_neighbors=1, logisticregression__C=1\n",
      "[CV 6/10; 3/6] END columntransformer__pipeline-1__knnimputer__n_neighbors=1, logisticregression__C=1; total time=   0.0s\n",
      "[CV 7/10; 3/6] START columntransformer__pipeline-1__knnimputer__n_neighbors=1, logisticregression__C=1\n",
      "[CV 7/10; 3/6] END columntransformer__pipeline-1__knnimputer__n_neighbors=1, logisticregression__C=1; total time=   0.0s\n",
      "[CV 8/10; 3/6] START columntransformer__pipeline-1__knnimputer__n_neighbors=1, logisticregression__C=1\n",
      "[CV 8/10; 3/6] END columntransformer__pipeline-1__knnimputer__n_neighbors=1, logisticregression__C=1; total time=   0.0s\n",
      "[CV 9/10; 3/6] START columntransformer__pipeline-1__knnimputer__n_neighbors=1, logisticregression__C=1\n",
      "[CV 9/10; 3/6] END columntransformer__pipeline-1__knnimputer__n_neighbors=1, logisticregression__C=1; total time=   0.0s\n",
      "[CV 10/10; 3/6] START columntransformer__pipeline-1__knnimputer__n_neighbors=1, logisticregression__C=1\n",
      "[CV 10/10; 3/6] END columntransformer__pipeline-1__knnimputer__n_neighbors=1, logisticregression__C=1; total time=   0.0s\n",
      "[CV 1/10; 4/6] START columntransformer__pipeline-1__knnimputer__n_neighbors=5, logisticregression__C=0.1\n",
      "[CV 1/10; 4/6] END columntransformer__pipeline-1__knnimputer__n_neighbors=5, logisticregression__C=0.1; total time=   0.0s\n",
      "[CV 2/10; 4/6] START columntransformer__pipeline-1__knnimputer__n_neighbors=5, logisticregression__C=0.1\n",
      "[CV 2/10; 4/6] END columntransformer__pipeline-1__knnimputer__n_neighbors=5, logisticregression__C=0.1; total time=   0.0s\n",
      "[CV 3/10; 4/6] START columntransformer__pipeline-1__knnimputer__n_neighbors=5, logisticregression__C=0.1\n",
      "[CV 3/10; 4/6] END columntransformer__pipeline-1__knnimputer__n_neighbors=5, logisticregression__C=0.1; total time=   0.0s\n",
      "[CV 4/10; 4/6] START columntransformer__pipeline-1__knnimputer__n_neighbors=5, logisticregression__C=0.1\n",
      "[CV 4/10; 4/6] END columntransformer__pipeline-1__knnimputer__n_neighbors=5, logisticregression__C=0.1; total time=   0.0s\n",
      "[CV 5/10; 4/6] START columntransformer__pipeline-1__knnimputer__n_neighbors=5, logisticregression__C=0.1\n",
      "[CV 5/10; 4/6] END columntransformer__pipeline-1__knnimputer__n_neighbors=5, logisticregression__C=0.1; total time=   0.0s\n",
      "[CV 6/10; 4/6] START columntransformer__pipeline-1__knnimputer__n_neighbors=5, logisticregression__C=0.1\n",
      "[CV 6/10; 4/6] END columntransformer__pipeline-1__knnimputer__n_neighbors=5, logisticregression__C=0.1; total time=   0.0s\n",
      "[CV 7/10; 4/6] START columntransformer__pipeline-1__knnimputer__n_neighbors=5, logisticregression__C=0.1\n",
      "[CV 7/10; 4/6] END columntransformer__pipeline-1__knnimputer__n_neighbors=5, logisticregression__C=0.1; total time=   0.0s\n",
      "[CV 8/10; 4/6] START columntransformer__pipeline-1__knnimputer__n_neighbors=5, logisticregression__C=0.1\n",
      "[CV 8/10; 4/6] END columntransformer__pipeline-1__knnimputer__n_neighbors=5, logisticregression__C=0.1; total time=   0.0s\n",
      "[CV 9/10; 4/6] START columntransformer__pipeline-1__knnimputer__n_neighbors=5, logisticregression__C=0.1\n",
      "[CV 9/10; 4/6] END columntransformer__pipeline-1__knnimputer__n_neighbors=5, logisticregression__C=0.1; total time=   0.0s\n",
      "[CV 10/10; 4/6] START columntransformer__pipeline-1__knnimputer__n_neighbors=5, logisticregression__C=0.1\n",
      "[CV 10/10; 4/6] END columntransformer__pipeline-1__knnimputer__n_neighbors=5, logisticregression__C=0.1; total time=   0.0s\n",
      "[CV 1/10; 5/6] START columntransformer__pipeline-1__knnimputer__n_neighbors=5, logisticregression__C=0.5\n",
      "[CV 1/10; 5/6] END columntransformer__pipeline-1__knnimputer__n_neighbors=5, logisticregression__C=0.5; total time=   0.0s\n",
      "[CV 2/10; 5/6] START columntransformer__pipeline-1__knnimputer__n_neighbors=5, logisticregression__C=0.5\n",
      "[CV 2/10; 5/6] END columntransformer__pipeline-1__knnimputer__n_neighbors=5, logisticregression__C=0.5; total time=   0.0s\n",
      "[CV 3/10; 5/6] START columntransformer__pipeline-1__knnimputer__n_neighbors=5, logisticregression__C=0.5\n",
      "[CV 3/10; 5/6] END columntransformer__pipeline-1__knnimputer__n_neighbors=5, logisticregression__C=0.5; total time=   0.0s\n",
      "[CV 4/10; 5/6] START columntransformer__pipeline-1__knnimputer__n_neighbors=5, logisticregression__C=0.5\n",
      "[CV 4/10; 5/6] END columntransformer__pipeline-1__knnimputer__n_neighbors=5, logisticregression__C=0.5; total time=   0.0s\n",
      "[CV 5/10; 5/6] START columntransformer__pipeline-1__knnimputer__n_neighbors=5, logisticregression__C=0.5\n",
      "[CV 5/10; 5/6] END columntransformer__pipeline-1__knnimputer__n_neighbors=5, logisticregression__C=0.5; total time=   0.0s\n",
      "[CV 6/10; 5/6] START columntransformer__pipeline-1__knnimputer__n_neighbors=5, logisticregression__C=0.5\n",
      "[CV 6/10; 5/6] END columntransformer__pipeline-1__knnimputer__n_neighbors=5, logisticregression__C=0.5; total time=   0.0s\n",
      "[CV 7/10; 5/6] START columntransformer__pipeline-1__knnimputer__n_neighbors=5, logisticregression__C=0.5\n",
      "[CV 7/10; 5/6] END columntransformer__pipeline-1__knnimputer__n_neighbors=5, logisticregression__C=0.5; total time=   0.0s\n",
      "[CV 8/10; 5/6] START columntransformer__pipeline-1__knnimputer__n_neighbors=5, logisticregression__C=0.5\n",
      "[CV 8/10; 5/6] END columntransformer__pipeline-1__knnimputer__n_neighbors=5, logisticregression__C=0.5; total time=   0.0s\n",
      "[CV 9/10; 5/6] START columntransformer__pipeline-1__knnimputer__n_neighbors=5, logisticregression__C=0.5\n",
      "[CV 9/10; 5/6] END columntransformer__pipeline-1__knnimputer__n_neighbors=5, logisticregression__C=0.5; total time=   0.0s\n",
      "[CV 10/10; 5/6] START columntransformer__pipeline-1__knnimputer__n_neighbors=5, logisticregression__C=0.5\n",
      "[CV 10/10; 5/6] END columntransformer__pipeline-1__knnimputer__n_neighbors=5, logisticregression__C=0.5; total time=   0.0s\n",
      "[CV 1/10; 6/6] START columntransformer__pipeline-1__knnimputer__n_neighbors=5, logisticregression__C=1\n",
      "[CV 1/10; 6/6] END columntransformer__pipeline-1__knnimputer__n_neighbors=5, logisticregression__C=1; total time=   0.0s\n",
      "[CV 2/10; 6/6] START columntransformer__pipeline-1__knnimputer__n_neighbors=5, logisticregression__C=1\n",
      "[CV 2/10; 6/6] END columntransformer__pipeline-1__knnimputer__n_neighbors=5, logisticregression__C=1; total time=   0.0s\n",
      "[CV 3/10; 6/6] START columntransformer__pipeline-1__knnimputer__n_neighbors=5, logisticregression__C=1\n",
      "[CV 3/10; 6/6] END columntransformer__pipeline-1__knnimputer__n_neighbors=5, logisticregression__C=1; total time=   0.0s\n",
      "[CV 4/10; 6/6] START columntransformer__pipeline-1__knnimputer__n_neighbors=5, logisticregression__C=1\n",
      "[CV 4/10; 6/6] END columntransformer__pipeline-1__knnimputer__n_neighbors=5, logisticregression__C=1; total time=   0.0s\n",
      "[CV 5/10; 6/6] START columntransformer__pipeline-1__knnimputer__n_neighbors=5, logisticregression__C=1\n",
      "[CV 5/10; 6/6] END columntransformer__pipeline-1__knnimputer__n_neighbors=5, logisticregression__C=1; total time=   0.0s\n",
      "[CV 6/10; 6/6] START columntransformer__pipeline-1__knnimputer__n_neighbors=5, logisticregression__C=1\n",
      "[CV 6/10; 6/6] END columntransformer__pipeline-1__knnimputer__n_neighbors=5, logisticregression__C=1; total time=   0.0s\n",
      "[CV 7/10; 6/6] START columntransformer__pipeline-1__knnimputer__n_neighbors=5, logisticregression__C=1\n",
      "[CV 7/10; 6/6] END columntransformer__pipeline-1__knnimputer__n_neighbors=5, logisticregression__C=1; total time=   0.0s\n",
      "[CV 8/10; 6/6] START columntransformer__pipeline-1__knnimputer__n_neighbors=5, logisticregression__C=1\n",
      "[CV 8/10; 6/6] END columntransformer__pipeline-1__knnimputer__n_neighbors=5, logisticregression__C=1; total time=   0.0s\n",
      "[CV 9/10; 6/6] START columntransformer__pipeline-1__knnimputer__n_neighbors=5, logisticregression__C=1\n",
      "[CV 9/10; 6/6] END columntransformer__pipeline-1__knnimputer__n_neighbors=5, logisticregression__C=1; total time=   0.0s\n",
      "[CV 10/10; 6/6] START columntransformer__pipeline-1__knnimputer__n_neighbors=5, logisticregression__C=1\n",
      "[CV 10/10; 6/6] END columntransformer__pipeline-1__knnimputer__n_neighbors=5, logisticregression__C=1; total time=   0.0s\n"
     ]
    },
    {
     "output_type": "execute_result",
     "data": {
      "text/plain": [
       "GridSearchCV(cv=10,\n",
       "             estimator=Pipeline(steps=[('columntransformer',\n",
       "                                        ColumnTransformer(transformers=[('pipeline-1',\n",
       "                                                                         Pipeline(steps=[('knnimputer',\n",
       "                                                                                          KNNImputer()),\n",
       "                                                                                         ('standardscaler',\n",
       "                                                                                          StandardScaler())]),\n",
       "                                                                         <sklearn.compose._column_transformer.make_column_selector object at 0x00000241C38A94F0>),\n",
       "                                                                        ('pipeline-2',\n",
       "                                                                         Pipeline(steps=[('simpleimputer',\n",
       "                                                                                          SimpleImputer(strategy=...,\n",
       "                                                                                         ('onehotencoder',\n",
       "                                                                                          OneHotEncoder(handle_unknown='ignore',\n",
       "                                                                                                        sparse=False))]),\n",
       "                                                                         <sklearn.compose._column_transformer.make_column_selector object at 0x00000241C38A92E0>)])),\n",
       "                                       ('logisticregression',\n",
       "                                        LogisticRegression())]),\n",
       "             param_grid={'columntransformer__pipeline-1__knnimputer__n_neighbors': [1,\n",
       "                                                                                    5],\n",
       "                         'logisticregression__C': [0.1, 0.5, 1]},\n",
       "             scoring='accuracy', verbose=10)"
      ]
     },
     "metadata": {},
     "execution_count": 17
    }
   ],
   "source": [
    "grid.fit(x_train, y_train)"
   ]
  },
  {
   "cell_type": "code",
   "execution_count": 18,
   "metadata": {},
   "outputs": [
    {
     "output_type": "execute_result",
     "data": {
      "text/plain": [
       "{'columntransformer__pipeline-1__knnimputer__n_neighbors': 5,\n",
       " 'logisticregression__C': 0.1}"
      ]
     },
     "metadata": {},
     "execution_count": 18
    }
   ],
   "source": [
    "grid.best_params_"
   ]
  },
  {
   "cell_type": "code",
   "execution_count": 19,
   "metadata": {},
   "outputs": [
    {
     "output_type": "execute_result",
     "data": {
      "text/plain": [
       "0.7892996870109548"
      ]
     },
     "metadata": {},
     "execution_count": 19
    }
   ],
   "source": [
    "grid.best_score_"
   ]
  },
  {
   "cell_type": "code",
   "execution_count": null,
   "metadata": {},
   "outputs": [],
   "source": []
  }
 ],
 "metadata": {
  "kernelspec": {
   "name": "python386jvsc74a57bd021eb02dd2b7bba9f0e23db62027cb5fa9e642e5664277c9b11f33c6f3760726e",
   "display_name": "Python 3.8.6 64-bit ('myenv': conda)"
  },
  "language_info": {
   "codemirror_mode": {
    "name": "ipython",
    "version": 3
   },
   "file_extension": ".py",
   "mimetype": "text/x-python",
   "name": "python",
   "nbconvert_exporter": "python",
   "pygments_lexer": "ipython3",
   "version": "3.8.6"
  }
 },
 "nbformat": 4,
 "nbformat_minor": 4
}